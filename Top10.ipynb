import pandas as pd
df = pd.read_csv("311_Service_Requests_2020.csv", low_memory=False)