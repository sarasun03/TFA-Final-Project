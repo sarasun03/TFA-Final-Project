{
 "cells": [
  {
   "cell_type": "code",
   "execution_count": 1,
   "id": "519e090e",
   "metadata": {},
   "outputs": [],
   "source": [
    "import pandas as pd"
   ]
  },
  {
   "cell_type": "code",
   "execution_count": 2,
   "id": "e3860fb2",
   "metadata": {},
   "outputs": [],
   "source": [
    "df = pd.read_csv(\"311_Service_Requests_2020.csv\", low_memory=False)"
   ]
  },
  {
   "cell_type": "code",
   "execution_count": 3,
   "id": "9669e9bd",
   "metadata": {},
   "outputs": [],
   "source": [
    "df = df[df['Incident Zip'].notnull()]"
   ]
  },
  {
   "cell_type": "code",
   "execution_count": 4,
   "id": "9402454f",
   "metadata": {},
   "outputs": [],
   "source": [
    "df['Incident Zip'] = df['Incident Zip'].astype(int)"
   ]
  },
  {
   "cell_type": "code",
   "execution_count": 5,
   "id": "9715e803",
   "metadata": {},
   "outputs": [],
   "source": [
    "df = df[df['Incident Zip']==11101]"
   ]
  },
  {
   "cell_type": "code",
   "execution_count": 6,
   "id": "a7e23c24",
   "metadata": {},
   "outputs": [
    {
     "data": {
      "text/plain": [
       "Complaint Type\n",
       "Illegal Parking                        2982\n",
       "Noise - Residential                    2030\n",
       "Noise - Street/Sidewalk                1220\n",
       "Blocked Driveway                       1034\n",
       "Non-Emergency Police Matter             904\n",
       "Street Condition                        670\n",
       "NonCompliance with Phased Reopening     649\n",
       "Noise                                   608\n",
       "Noise - Commercial                      512\n",
       "Noise - Vehicle                         374\n",
       "dtype: int64"
      ]
     },
     "execution_count": 6,
     "metadata": {},
     "output_type": "execute_result"
    }
   ],
   "source": [
    "top10 = df.groupby('Complaint Type').size().sort_values(ascending=False).head(10)\n",
    "top10"
   ]
  },
  {
   "cell_type": "code",
   "execution_count": 7,
   "id": "ad873c89",
   "metadata": {},
   "outputs": [
    {
     "data": {
      "text/plain": [
       "pandas.core.series.Series"
      ]
     },
     "execution_count": 7,
     "metadata": {},
     "output_type": "execute_result"
    }
   ],
   "source": [
    "type(top10)"
   ]
  }
 ],
 "metadata": {
  "kernelspec": {
   "display_name": "Python 3",
   "language": "python",
   "name": "python3"
  },
  "language_info": {
   "codemirror_mode": {
    "name": "ipython",
    "version": 3
   },
   "file_extension": ".py",
   "mimetype": "text/x-python",
   "name": "python",
   "nbconvert_exporter": "python",
   "pygments_lexer": "ipython3",
   "version": "3.8.8"
  }
 },
 "nbformat": 4,
 "nbformat_minor": 5
}
